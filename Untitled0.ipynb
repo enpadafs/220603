{
  "nbformat": 4,
  "nbformat_minor": 0,
  "metadata": {
    "colab": {
      "name": "Untitled0.ipynb",
      "provenance": [],
      "authorship_tag": "ABX9TyPI8IBCDgfRosVQob36mdKP",
      "include_colab_link": true
    },
    "kernelspec": {
      "name": "python3",
      "display_name": "Python 3"
    },
    "language_info": {
      "name": "python"
    }
  },
  "cells": [
    {
      "cell_type": "markdown",
      "metadata": {
        "id": "view-in-github",
        "colab_type": "text"
      },
      "source": [
        "<a href=\"https://colab.research.google.com/github/enpadafs/220603/blob/main/Untitled0.ipynb\" target=\"_parent\"><img src=\"https://colab.research.google.com/assets/colab-badge.svg\" alt=\"Open In Colab\"/></a>"
      ]
    },
    {
      "cell_type": "code",
      "execution_count": 4,
      "metadata": {
        "colab": {
          "base_uri": "https://localhost:8080/"
        },
        "id": "cWdReFgm9eq-",
        "outputId": "7953a54a-0038-4f0d-8eed-28c213484f8d"
      },
      "outputs": [
        {
          "output_type": "stream",
          "name": "stdout",
          "text": [
            "3개의 정수값을 입력하시오.\n",
            "첫번째 값을 입력하시오.:1\n",
            "두번째 값을 입력하시오.:2\n",
            "세번째 값을 입력하시오.:3\n",
            "1 2 3\n",
            "6\n"
          ]
        }
      ],
      "source": [
        "print(\"3개의 정수값을 입력하시오.\")\n",
        "int1 = int(input(\"첫번째 값을 입력하시오.:\"))\n",
        "int2 = int(input(\"두번째 값을 입력하시오.:\"))\n",
        "int3 = int(input(\"세번째 값을 입력하시오.:\"))\n",
        "print(int1, int2, int3)\n",
        "sum = int1 + int2 +  int3\n",
        "print(sum)"
      ]
    },
    {
      "cell_type": "code",
      "source": [
        "total = 0\n",
        "counter = 1\n",
        "while counter <= 10:\n",
        "  grade = int(input(\" 점수를 입력하시오.: \"))\n",
        "  total= grade + total\n",
        "  counter = counter + 1\n",
        "aver = total / 10\n",
        "print(aver)"
      ],
      "metadata": {
        "colab": {
          "base_uri": "https://localhost:8080/"
        },
        "id": "V3kOGBZKBmF-",
        "outputId": "aafab86d-a22e-4201-8b12-e2d12f4257d4"
      },
      "execution_count": 14,
      "outputs": [
        {
          "output_type": "stream",
          "name": "stdout",
          "text": [
            " 점수를 입력하시오.: 10\n",
            " 점수를 입력하시오.: 20\n",
            " 점수를 입력하시오.: 30\n",
            " 점수를 입력하시오.: 40\n",
            " 점수를 입력하시오.: 50\n",
            " 점수를 입력하시오.: 60\n",
            " 점수를 입력하시오.: 70\n",
            " 점수를 입력하시오.: 80\n",
            " 점수를 입력하시오.: 90\n",
            " 점수를 입력하시오.: 10\n",
            "46.0\n"
          ]
        }
      ]
    },
    {
      "cell_type": "code",
      "source": [
        "pay_rate = int(input(\"시급을 입력하시오. 2022년 6월 기준 9160원;\"))\n",
        "hour_work = int(input(\"일한 시간을 입력하시오.: \"))\n",
        "mon_pay = pay_rate + hour_work\n",
        "print(mon_pay)"
      ],
      "metadata": {
        "colab": {
          "base_uri": "https://localhost:8080/"
        },
        "id": "8warPjqXMMca",
        "outputId": "2810f80b-77a8-4467-85b9-2d019846dc6d"
      },
      "execution_count": 16,
      "outputs": [
        {
          "output_type": "stream",
          "name": "stdout",
          "text": [
            "시급을 입력하시오. 2022년 6월 기준 9160원;9160\n",
            "일한 시간을 입력하시오.: 72\n",
            "9232\n"
          ]
        }
      ]
    }
  ]
}